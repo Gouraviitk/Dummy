{
 "cells": [
  {
   "cell_type": "code",
   "execution_count": 124,
   "metadata": {},
   "outputs": [],
   "source": [
    "import numpy as np\n",
    "import json\n",
    "import pickle\n",
    "import math\n",
    "#### Do not add additional imports ####\n",
    "## You can add inputs to the functions below and return variables as per your requirement##\n",
    "\n"
   ]
  },
  {
   "cell_type": "code",
   "execution_count": 125,
   "metadata": {},
   "outputs": [],
   "source": [
    "def setRandomState():\n",
    "\t## sets random state ##\n",
    "\tnp.random.seed(seed = 1234)\n",
    "\t## Do not modify this ##\n",
    "\n"
   ]
  },
  {
   "cell_type": "code",
   "execution_count": 126,
   "metadata": {},
   "outputs": [],
   "source": [
    "def generateInput(n,l):\n",
    "#inputs = np.random.randint(100, size=(n,l))\n",
    "    inputs = 50*np.random.random( size=(n,l))\n",
    "    return inputs\n",
    "    \n",
    "\n",
    "def generateLabels(inputs):\n",
    "\tlabels = []\n",
    "\tfor i in inputs:\n",
    "\t\tlabels.append(np.max(i))\n",
    "\treturn labels\n",
    "\n"
   ]
  },
  {
   "cell_type": "code",
   "execution_count": 127,
   "metadata": {},
   "outputs": [],
   "source": [
    "def forwardProp(inputs,w1,w2,w3):\n",
    "    temp = np.matmul(inputs,w1)\n",
    "    h1 = activationFunction(temp+1)\n",
    "    h2 = activationFunction(np.matmul(h1,w2)+1)\n",
    "    output = activationFunction(np.matmul(h2,w3)+1)\n",
    "    return (output,h1,h2)"
   ]
  },
  {
   "cell_type": "code",
   "execution_count": 128,
   "metadata": {},
   "outputs": [],
   "source": [
    "#def generateBatch():\n",
    "\t\n"
   ]
  },
  {
   "cell_type": "code",
   "execution_count": 129,
   "metadata": {},
   "outputs": [],
   "source": [
    "def backProp(error,inputs,w1,w2,w3,h1,h2,output,n,alpha):\n",
    "    # We are using L-2 norm so derivative with respect to w2 will have\n",
    "    # 2*error*g'(output)*d(output)/d(w2)\n",
    "    # multiplying error and g'(output)\n",
    "    back11 = error*activationFunction(output,der = True)\n",
    "    \n",
    "    #Matrix multiplication with hidden layer to get update matrix for w2\n",
    "    back12 = np.matmul(h2.T,back11)\n",
    "    \n",
    "    #When we expand derivative equation wrt w1 back11 is common term followed by w2 and input matrix\n",
    "    #Matrix Multiplication of w2 with back11 (managing order of the dimension)\n",
    "    back21 = np.matmul(back11,w3.T)\n",
    "    \n",
    "    #Element multiplication for every input data with derivative\n",
    "    back22 = back21*activationFunction(h2,der = True)\n",
    "    \n",
    "    #matrix multiplication with input matrix which we get in expression\n",
    "    back23 = np.matmul(h1.T,back22)\n",
    "    \n",
    "    back31 = np.matmul(back21,w2.T)\n",
    "    back32 = back31*activationFunction(h1,der = True)\n",
    "    back33 = np.matmul(inputs.T,back32)\n",
    "    \n",
    "    \n",
    "    update1 = back12/alpha  #Got this term after trainig getting overflowed\n",
    "    w3 += update1\n",
    "    update2 = back23/alpha \n",
    "    w2 += update2\n",
    "    update3 = back33/alpha\n",
    "    w1 += update3\n",
    "    return w1,w2,w3\n",
    "    "
   ]
  },
  {
   "cell_type": "code",
   "execution_count": 130,
   "metadata": {},
   "outputs": [],
   "source": [
    "def activationFunction(a,der = False):\n",
    "    if der == False:\n",
    "        return np.log(1+np.exp(a)) #Soft ReLu function as max can be break down into its linear combination\n",
    "    else : \n",
    "        temp = 1+np.exp(-1*a)\n",
    "        return 1./(temp)\n"
   ]
  },
  {
   "cell_type": "code",
   "execution_count": 131,
   "metadata": {},
   "outputs": [],
   "source": [
    "def activationFunction2(a,der = False):\n",
    "    if der == False:\n",
    "        return 1/(1+np.exp(-a)) #Soft ReLu function as max can be break down into its linear combination\n",
    "    else : \n",
    "        return a*(1-a)\n",
    "\n"
   ]
  },
  {
   "cell_type": "code",
   "execution_count": 132,
   "metadata": {},
   "outputs": [],
   "source": [
    "def buildNetwork(n,l,l1,l2):\n",
    "    setRandomState()\n",
    "\n",
    "\n",
    "    inputs = generateInput(n,l)\n",
    "    labels = generateLabels(inputs)\n",
    "    labels = np.array(labels,ndmin = 2)\n",
    "    labels = labels.T\n",
    "    \n",
    "    #randomizing weights with mean zero for better chance of convergence ... Just a good practice\n",
    "    setRandomState()\n",
    "    w1 = 2*np.random.random((l,l1))-1\n",
    "    setRandomState()\n",
    "    w2 = 2*np.random.random((l1,l2))-1\n",
    "    setRandomState()\n",
    "    w3 = 2*np.random.random((l2,1))-1\n",
    "    \n",
    "    return (inputs,labels,w1,w2,w3)\n",
    "    "
   ]
  },
  {
   "cell_type": "code",
   "execution_count": 113,
   "metadata": {},
   "outputs": [],
   "source": [
    "def trainNetwork(inputs,w1,w2,w3,labels,n,l,iterations):\n",
    "    alpha = n**(l+1)\n",
    "    previous_error = 0\n",
    "    for k in range(iterations):\n",
    "        output,h1,h2 = forwardProp(inputs,w1,w2,w3)\n",
    "        error  = labels - output\n",
    "        if abs(np.mean(np.abs(error)) - np.mean(np.abs(previous_error)))<0.0001 and k%10==0 and np.mean(np.abs(error)) > 2:\n",
    "            alpha = alpha*(n**(-0.2))\n",
    "        #elif abs(np.mean(np.abs(error)) - np.mean(np.abs(previous_error)))<0.01 and k%10==0 and np.mean(np.abs(error)) > 0.5:\n",
    "           # alpha = alpha*(n**(-0.1))\n",
    "        previous_error = error\n",
    "        if k%(iterations/20) == 0 :\n",
    "            print(np.mean(np.abs(error)))\n",
    "        w1,w2,w3 = backProp(error,inputs,w1,w2,w3,h1,h2,output,n,alpha)\n",
    "    return (w1,w2,w3,output)"
   ]
  },
  {
   "cell_type": "code",
   "execution_count": 114,
   "metadata": {},
   "outputs": [],
   "source": [
    "def testNetwork(check,w1,w2,w3):\n",
    "    output,h1,h2 = forwardProp(check,w1,w2,w3)\n",
    "    return output"
   ]
  },
  {
   "cell_type": "code",
   "execution_count": 115,
   "metadata": {},
   "outputs": [],
   "source": [
    "#n0 = 2000 #no. of datasets to generate\n",
    "n = 200\n",
    "l = 4   #length of input layer\n",
    "l1 = 20 #length of first hidden layer\n",
    "l2 = 10#length of second hidden layer\n",
    "inputs,labels,w1,w2,w3 = buildNetwork(n,l,l1,l2)\n",
    "iterations = 300000"
   ]
  },
  {
   "cell_type": "code",
   "execution_count": 116,
   "metadata": {},
   "outputs": [],
   "source": [
    "#def computeCost():\n",
    "\t\n",
    "\n",
    "\n",
    "\n",
    "\n",
    "\n"
   ]
  },
  {
   "cell_type": "code",
   "execution_count": 117,
   "metadata": {},
   "outputs": [
    {
     "name": "stdout",
     "output_type": "stream",
     "text": [
      "34.2795727560368\n",
      "27.468053265777073\n",
      "21.83040841798318\n",
      "17.933490533725728\n",
      "15.426004169326545\n",
      "13.57060324306185\n",
      "10.827746099917704\n",
      "8.469936626191448\n",
      "5.7481489357375475\n",
      "3.403330101906322\n",
      "1.7280501879559984\n",
      "1.513623960754493\n",
      "1.3955618576183013\n",
      "1.312223196983183\n",
      "1.2649446983060963\n",
      "1.2287504907468758\n",
      "1.1983865999149408\n",
      "1.1734068984369466\n",
      "1.1523404703835707\n",
      "1.1266873823366172\n"
     ]
    }
   ],
   "source": [
    "w1,w2,w3,output = trainNetwork(inputs,w1,w2,w3,labels,n,l,iterations)"
   ]
  },
  {
   "cell_type": "code",
   "execution_count": null,
   "metadata": {},
   "outputs": [],
   "source": []
  },
  {
   "cell_type": "code",
   "execution_count": 123,
   "metadata": {},
   "outputs": [
    {
     "data": {
      "text/plain": [
       "array([[48.79261339]])"
      ]
     },
     "execution_count": 123,
     "metadata": {},
     "output_type": "execute_result"
    }
   ],
   "source": [
    "check = [[50,0,2,30]]\n",
    "testNetwork(check,w1,w2,w3)"
   ]
  },
  {
   "cell_type": "code",
   "execution_count": null,
   "metadata": {},
   "outputs": [],
   "source": []
  },
  {
   "cell_type": "code",
   "execution_count": null,
   "metadata": {},
   "outputs": [],
   "source": []
  },
  {
   "cell_type": "code",
   "execution_count": null,
   "metadata": {},
   "outputs": [],
   "source": []
  }
 ],
 "metadata": {
  "kernelspec": {
   "display_name": "Python 2",
   "language": "python",
   "name": "python2"
  },
  "language_info": {
   "codemirror_mode": {
    "name": "ipython",
    "version": 2
   },
   "file_extension": ".py",
   "mimetype": "text/x-python",
   "name": "python",
   "nbconvert_exporter": "python",
   "pygments_lexer": "ipython2",
   "version": "2.7.15"
  }
 },
 "nbformat": 4,
 "nbformat_minor": 2
}
